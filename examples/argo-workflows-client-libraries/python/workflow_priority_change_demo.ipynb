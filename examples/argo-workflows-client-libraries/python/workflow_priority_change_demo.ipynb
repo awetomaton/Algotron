{
 "cells": [
  {
   "cell_type": "code",
   "execution_count": 1,
   "metadata": {},
   "outputs": [],
   "source": [
    "import kubernetes\n",
    "import argo_workflows\n",
    "import yaml\n",
    "import requests\n",
    "import random\n",
    "import string\n",
    "import time\n",
    "import string\n",
    "\n",
    "from argo_workflows.apis import WorkflowServiceApi\n",
    "from argo_workflows.model.io_argoproj_workflow_v1alpha1_workflow_create_request import (\n",
    "    IoArgoprojWorkflowV1alpha1WorkflowCreateRequest,\n",
    ")"
   ]
  },
  {
   "cell_type": "code",
   "execution_count": 2,
   "metadata": {},
   "outputs": [],
   "source": [
    "def random_wf_name(prefix, N):\n",
    "    random_portion = ''.join(random.choices(string.ascii_lowercase + string.digits, k=N))\n",
    "    return \"-\".join([prefix, random_portion])"
   ]
  },
  {
   "cell_type": "code",
   "execution_count": 3,
   "metadata": {},
   "outputs": [],
   "source": [
    "def get_workflows_by_status(api_instance, namespace, status):\n",
    "    workflows = api_instance.list_workflows(namespace,\n",
    "                                            _check_return_type=False)[\"items\"]\n",
    "    pending_wfs = [workflow for workflow in workflows if workflow[\"status\"][\"phase\"] == status]\n",
    "    return pending_wfs"
   ]
  },
  {
   "cell_type": "code",
   "execution_count": 4,
   "metadata": {},
   "outputs": [],
   "source": [
    "def get_workflows_by_name(api_instance, namespace, name):\n",
    "    workflows = api_instance.list_workflows(namespace,\n",
    "                                            _check_return_type=False)[\"items\"]\n",
    "    pending_wfs = [\n",
    "        workflow for workflow in workflows if name in workflow[\"metadata\"][\"name\"]]\n",
    "    return pending_wfs\n"
   ]
  },
  {
   "cell_type": "code",
   "execution_count": 5,
   "metadata": {},
   "outputs": [],
   "source": [
    "def get_workflows_by_priority(api_instance, namespace, operator, priority):\n",
    "    workflows = api_instance.list_workflows(namespace,\n",
    "                                            _check_return_type=False)[\"items\"]\n",
    "    if operator == \"<\":\n",
    "        pending_wfs = [\n",
    "            workflow for workflow in workflows if workflow[\"spec\"][\"priority\"] < priority]\n",
    "    if operator == \">\":\n",
    "        pending_wfs = [\n",
    "            workflow for workflow in workflows if workflow[\"spec\"][\"priority\"] > priority]\n",
    "    if operator == \"=\":\n",
    "        pending_wfs = [\n",
    "            workflow for workflow in workflows if workflow[\"spec\"][\"priority\"] == priority]\n",
    "    if operator == \"<=\":\n",
    "        pending_wfs = [\n",
    "            workflow for workflow in workflows if workflow[\"spec\"][\"priority\"] <= priority]\n",
    "    if operator == \">=\":\n",
    "        pending_wfs = [\n",
    "            workflow for workflow in workflows if workflow[\"spec\"][\"priority\"] >= priority]\n",
    "    return pending_wfs\n"
   ]
  },
  {
   "cell_type": "code",
   "execution_count": 6,
   "metadata": {},
   "outputs": [],
   "source": [
    "def change_workflow_priority(api_instance, namespace, workflow_name, new_priority):\n",
    "    # get a copy of the desired workflow\n",
    "    new_pr_wf = api_instance.get_workflow(\n",
    "        namespace, workflow_name, _check_return_type=False)\n",
    "\n",
    "    # alter priority of the workflow copy\n",
    "    new_pr_wf[\"spec\"][\"priority\"] = 11\n",
    "\n",
    "    # clear the resource version or create request will throw an error\n",
    "    del new_pr_wf[\"metadata\"][\"resourceVersion\"]\n",
    "\n",
    "    # delete old workflow\n",
    "    api_instance.delete_workflow(\n",
    "        namespace, workflow_name, _check_return_type=False)\n",
    "\n",
    "    # create a new instance of the altered workflow copy\n",
    "    api_instance.create_workflow(namespace = namespace, body = IoArgoprojWorkflowV1alpha1WorkflowCreateRequest(workflow=new_pr_wf,_check_type=False), _check_return_type = False)"
   ]
  },
  {
   "cell_type": "code",
   "execution_count": null,
   "metadata": {},
   "outputs": [],
   "source": [
    "namespace = \"argo-workflows\"\n",
    "workflow_prefix = \"placeholder-wf\"\n",
    "\n",
    "## Getting a workflow\n",
    "wf_spec = requests.get(\n",
    "    'https://raw.githubusercontent.com/argoproj/argo-workflows/master/examples/hello-world.yaml')\n",
    "manifest = yaml.safe_load(wf_spec.text)\n",
    "\n",
    "# Unset generateName, will be providing our own so we can get it easily later\n",
    "del manifest[\"metadata\"][\"generateName\"]\n",
    "manifest[\"spec\"][\"priority\"] = 10\n",
    "\n",
    "## Workflow API setup\n",
    "config = argo_workflows.Configuration(\n",
    "    host=\"http://argo-workflows.pd.k8s.altamiracorp.com\")\n",
    "config.verify_ssl = False\n",
    "config.client_side_validation = False\n",
    "\n",
    "api_client = argo_workflows.ApiClient(config)\n",
    "api_instance = WorkflowServiceApi(api_client)\n",
    "\n",
    "\n",
    "## Submitting a lot of workflows\n",
    "for _ in range(100):\n",
    "    new_random_name = random_wf_name(workflow_prefix, 5)\n",
    "    manifest[\"metadata\"][\"name\"] = new_random_name\n",
    "    api_instance.create_workflow(namespace=namespace,\n",
    "                                 body=IoArgoprojWorkflowV1alpha1WorkflowCreateRequest(workflow=manifest,\n",
    "                                                                                      _check_type=False),\n",
    "                                 _check_return_type=False)\n",
    "\n",
    "# Submitting a low priority workflow\n",
    "low_priority_name = random_wf_name(\"low-priority\", 5)\n",
    "manifest[\"metadata\"][\"name\"] = low_priority_name\n",
    "manifest[\"spec\"][\"priority\"] = 1\n",
    "api_instance.create_workflow(namespace=namespace,\n",
    "                             body=IoArgoprojWorkflowV1alpha1WorkflowCreateRequest(workflow=manifest,\n",
    "                                                                                  _check_type=False),\n",
    "                             _check_return_type=False)\n"
   ]
  },
  {
   "cell_type": "code",
   "execution_count": 17,
   "metadata": {},
   "outputs": [],
   "source": [
    "# The workflow name can be aqcuired\n",
    "change_workflow_priority(api_instance, namespace,\n",
    "                         low_priority_name, 11)\n"
   ]
  },
  {
   "cell_type": "code",
   "execution_count": null,
   "metadata": {},
   "outputs": [],
   "source": [
    "# display workflows of desired priority if known\n",
    "get_workflows_by_priority(api_instance, namespace, \"=\", 11)"
   ]
  },
  {
   "cell_type": "code",
   "execution_count": null,
   "metadata": {},
   "outputs": [],
   "source": [
    "# Get a list of workflows whose names contain a substring\n",
    "get_workflows_by_name(api_instance, namespace, \"low\")"
   ]
  },
  {
   "cell_type": "code",
   "execution_count": null,
   "metadata": {},
   "outputs": [],
   "source": [
    "# Get a Workflow's info by searching for part of it's name\n",
    "get_workflows_by_status(api_instance, namespace, \"Pending\")"
   ]
  }
 ],
 "metadata": {
  "kernelspec": {
   "display_name": "Python 3.8.10 64-bit",
   "language": "python",
   "name": "python3"
  },
  "language_info": {
   "codemirror_mode": {
    "name": "ipython",
    "version": 3
   },
   "file_extension": ".py",
   "mimetype": "text/x-python",
   "name": "python",
   "nbconvert_exporter": "python",
   "pygments_lexer": "ipython3",
   "version": "3.8.10"
  },
  "orig_nbformat": 4,
  "vscode": {
   "interpreter": {
    "hash": "767d51c1340bd893661ea55ea3124f6de3c7a262a8b4abca0554b478b1e2ff90"
   }
  }
 },
 "nbformat": 4,
 "nbformat_minor": 2
}
